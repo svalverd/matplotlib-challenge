{
 "cells": [
  {
   "cell_type": "markdown",
   "metadata": {},
   "source": [
    "## Observations and Insights\n",
    "1. Capomulin is the drug treatment that show the most promise in reducing tumor growth in mice.\n",
    "\n",
    "2. Both Capomulin and Ramicane had the best results in mice completing the study.  Use of the other drugs results in multiple mouse deaths during the study.\n",
    "\n",
    "3. There was a correlation between mouse weight and tumor volume.\n"
   ]
  },
  {
   "cell_type": "markdown",
   "metadata": {},
   "source": [
    "## Dependencies and starter code"
   ]
  },
  {
   "cell_type": "code",
   "execution_count": 1,
   "metadata": {},
   "outputs": [
    {
     "data": {
      "text/html": [
       "<div>\n",
       "<style scoped>\n",
       "    .dataframe tbody tr th:only-of-type {\n",
       "        vertical-align: middle;\n",
       "    }\n",
       "\n",
       "    .dataframe tbody tr th {\n",
       "        vertical-align: top;\n",
       "    }\n",
       "\n",
       "    .dataframe thead th {\n",
       "        text-align: right;\n",
       "    }\n",
       "</style>\n",
       "<table border=\"1\" class=\"dataframe\">\n",
       "  <thead>\n",
       "    <tr style=\"text-align: right;\">\n",
       "      <th></th>\n",
       "      <th>Mouse ID</th>\n",
       "      <th>Timepoint</th>\n",
       "      <th>Tumor Volume (mm3)</th>\n",
       "      <th>Metastatic Sites</th>\n",
       "      <th>Drug Regimen</th>\n",
       "      <th>Sex</th>\n",
       "      <th>Age_months</th>\n",
       "      <th>Weight (g)</th>\n",
       "    </tr>\n",
       "  </thead>\n",
       "  <tbody>\n",
       "    <tr>\n",
       "      <td>0</td>\n",
       "      <td>b128</td>\n",
       "      <td>0</td>\n",
       "      <td>45.000000</td>\n",
       "      <td>0</td>\n",
       "      <td>Capomulin</td>\n",
       "      <td>Female</td>\n",
       "      <td>9</td>\n",
       "      <td>22</td>\n",
       "    </tr>\n",
       "    <tr>\n",
       "      <td>1</td>\n",
       "      <td>f932</td>\n",
       "      <td>0</td>\n",
       "      <td>45.000000</td>\n",
       "      <td>0</td>\n",
       "      <td>Ketapril</td>\n",
       "      <td>Male</td>\n",
       "      <td>15</td>\n",
       "      <td>29</td>\n",
       "    </tr>\n",
       "    <tr>\n",
       "      <td>2</td>\n",
       "      <td>g107</td>\n",
       "      <td>0</td>\n",
       "      <td>45.000000</td>\n",
       "      <td>0</td>\n",
       "      <td>Ketapril</td>\n",
       "      <td>Female</td>\n",
       "      <td>2</td>\n",
       "      <td>29</td>\n",
       "    </tr>\n",
       "    <tr>\n",
       "      <td>3</td>\n",
       "      <td>a457</td>\n",
       "      <td>0</td>\n",
       "      <td>45.000000</td>\n",
       "      <td>0</td>\n",
       "      <td>Ketapril</td>\n",
       "      <td>Female</td>\n",
       "      <td>11</td>\n",
       "      <td>30</td>\n",
       "    </tr>\n",
       "    <tr>\n",
       "      <td>4</td>\n",
       "      <td>c819</td>\n",
       "      <td>0</td>\n",
       "      <td>45.000000</td>\n",
       "      <td>0</td>\n",
       "      <td>Ketapril</td>\n",
       "      <td>Male</td>\n",
       "      <td>21</td>\n",
       "      <td>25</td>\n",
       "    </tr>\n",
       "    <tr>\n",
       "      <td>...</td>\n",
       "      <td>...</td>\n",
       "      <td>...</td>\n",
       "      <td>...</td>\n",
       "      <td>...</td>\n",
       "      <td>...</td>\n",
       "      <td>...</td>\n",
       "      <td>...</td>\n",
       "      <td>...</td>\n",
       "    </tr>\n",
       "    <tr>\n",
       "      <td>1888</td>\n",
       "      <td>r944</td>\n",
       "      <td>45</td>\n",
       "      <td>41.581521</td>\n",
       "      <td>2</td>\n",
       "      <td>Capomulin</td>\n",
       "      <td>Male</td>\n",
       "      <td>12</td>\n",
       "      <td>25</td>\n",
       "    </tr>\n",
       "    <tr>\n",
       "      <td>1889</td>\n",
       "      <td>u364</td>\n",
       "      <td>45</td>\n",
       "      <td>31.023923</td>\n",
       "      <td>3</td>\n",
       "      <td>Capomulin</td>\n",
       "      <td>Male</td>\n",
       "      <td>18</td>\n",
       "      <td>17</td>\n",
       "    </tr>\n",
       "    <tr>\n",
       "      <td>1890</td>\n",
       "      <td>p438</td>\n",
       "      <td>45</td>\n",
       "      <td>61.433892</td>\n",
       "      <td>1</td>\n",
       "      <td>Ceftamin</td>\n",
       "      <td>Female</td>\n",
       "      <td>11</td>\n",
       "      <td>26</td>\n",
       "    </tr>\n",
       "    <tr>\n",
       "      <td>1891</td>\n",
       "      <td>x773</td>\n",
       "      <td>45</td>\n",
       "      <td>58.634971</td>\n",
       "      <td>4</td>\n",
       "      <td>Placebo</td>\n",
       "      <td>Female</td>\n",
       "      <td>21</td>\n",
       "      <td>30</td>\n",
       "    </tr>\n",
       "    <tr>\n",
       "      <td>1892</td>\n",
       "      <td>b879</td>\n",
       "      <td>45</td>\n",
       "      <td>72.555239</td>\n",
       "      <td>2</td>\n",
       "      <td>Stelasyn</td>\n",
       "      <td>Female</td>\n",
       "      <td>4</td>\n",
       "      <td>26</td>\n",
       "    </tr>\n",
       "  </tbody>\n",
       "</table>\n",
       "<p>1893 rows × 8 columns</p>\n",
       "</div>"
      ],
      "text/plain": [
       "     Mouse ID  Timepoint  Tumor Volume (mm3)  Metastatic Sites Drug Regimen  \\\n",
       "0        b128          0           45.000000                 0    Capomulin   \n",
       "1        f932          0           45.000000                 0     Ketapril   \n",
       "2        g107          0           45.000000                 0     Ketapril   \n",
       "3        a457          0           45.000000                 0     Ketapril   \n",
       "4        c819          0           45.000000                 0     Ketapril   \n",
       "...       ...        ...                 ...               ...          ...   \n",
       "1888     r944         45           41.581521                 2    Capomulin   \n",
       "1889     u364         45           31.023923                 3    Capomulin   \n",
       "1890     p438         45           61.433892                 1     Ceftamin   \n",
       "1891     x773         45           58.634971                 4      Placebo   \n",
       "1892     b879         45           72.555239                 2     Stelasyn   \n",
       "\n",
       "         Sex  Age_months  Weight (g)  \n",
       "0     Female           9          22  \n",
       "1       Male          15          29  \n",
       "2     Female           2          29  \n",
       "3     Female          11          30  \n",
       "4       Male          21          25  \n",
       "...      ...         ...         ...  \n",
       "1888    Male          12          25  \n",
       "1889    Male          18          17  \n",
       "1890  Female          11          26  \n",
       "1891  Female          21          30  \n",
       "1892  Female           4          26  \n",
       "\n",
       "[1893 rows x 8 columns]"
      ]
     },
     "execution_count": 1,
     "metadata": {},
     "output_type": "execute_result"
    }
   ],
   "source": [
    "# Dependencies and Setup\n",
    "import matplotlib.pyplot as plt\n",
    "import pandas as pd\n",
    "import scipy.stats as st\n",
    "import numpy as np\n",
    "\n",
    "# Study data files\n",
    "mouse_metadata = \"data/Mouse_metadata.csv\"\n",
    "study_results = \"data/Study_results.csv\"\n",
    "\n",
    "# Read the mouse data and the study results\n",
    "mouse_metadata = pd.read_csv(mouse_metadata)\n",
    "study_results = pd.read_csv(study_results)\n",
    "\n",
    "# Combine the data into a single dataset\n",
    "combined_mousestudy = pd.merge(study_results, mouse_metadata, how='left', on='Mouse ID')\n",
    "combined_mousestudy"
   ]
  },
  {
   "cell_type": "code",
   "execution_count": 2,
   "metadata": {
    "scrolled": true
   },
   "outputs": [
    {
     "name": "stdout",
     "output_type": "stream",
     "text": [
      "Drug Regimen\n",
      "Capomulin    230\n",
      "Ceftamin     178\n",
      "Infubinol    178\n",
      "Ketapril     188\n",
      "Naftisol     186\n",
      "Placebo      181\n",
      "Propriva     161\n",
      "Ramicane     228\n",
      "Stelasyn     181\n",
      "Zoniferol    182\n",
      "Name: Drug Regimen, dtype: int64\n"
     ]
    }
   ],
   "source": [
    "\n",
    "# Create a GroupBy object based upon \"View Group\"\n",
    "combined_mousestudy_group = combined_mousestudy.groupby(\"Drug Regimen\")\n",
    "\n",
    "# Find how many rows fall into each bin\n",
    "print(combined_mousestudy_group[\"Drug Regimen\"].count())"
   ]
  },
  {
   "cell_type": "markdown",
   "metadata": {},
   "source": [
    "##Summary statistics"
   ]
  },
  {
   "cell_type": "code",
   "execution_count": 3,
   "metadata": {
    "scrolled": true
   },
   "outputs": [
    {
     "data": {
      "text/html": [
       "<div>\n",
       "<style scoped>\n",
       "    .dataframe tbody tr th:only-of-type {\n",
       "        vertical-align: middle;\n",
       "    }\n",
       "\n",
       "    .dataframe tbody tr th {\n",
       "        vertical-align: top;\n",
       "    }\n",
       "\n",
       "    .dataframe thead th {\n",
       "        text-align: right;\n",
       "    }\n",
       "</style>\n",
       "<table border=\"1\" class=\"dataframe\">\n",
       "  <thead>\n",
       "    <tr style=\"text-align: right;\">\n",
       "      <th></th>\n",
       "      <th>Mean Tumor Volume</th>\n",
       "      <th>Median Tumor Volume</th>\n",
       "      <th>Tumor Volume Vaiance</th>\n",
       "      <th>Tumor Volume Std. Dev.</th>\n",
       "      <th>Tumor Volume Std. Err.</th>\n",
       "    </tr>\n",
       "    <tr>\n",
       "      <th>Drug Regimen</th>\n",
       "      <th></th>\n",
       "      <th></th>\n",
       "      <th></th>\n",
       "      <th></th>\n",
       "      <th></th>\n",
       "    </tr>\n",
       "  </thead>\n",
       "  <tbody>\n",
       "    <tr>\n",
       "      <td>Capomulin</td>\n",
       "      <td>40.675741</td>\n",
       "      <td>41.557809</td>\n",
       "      <td>24.947764</td>\n",
       "      <td>4.994774</td>\n",
       "      <td>0.329346</td>\n",
       "    </tr>\n",
       "    <tr>\n",
       "      <td>Ceftamin</td>\n",
       "      <td>52.591172</td>\n",
       "      <td>51.776157</td>\n",
       "      <td>39.290177</td>\n",
       "      <td>6.268188</td>\n",
       "      <td>0.469821</td>\n",
       "    </tr>\n",
       "    <tr>\n",
       "      <td>Infubinol</td>\n",
       "      <td>52.884795</td>\n",
       "      <td>51.820584</td>\n",
       "      <td>43.128684</td>\n",
       "      <td>6.567243</td>\n",
       "      <td>0.492236</td>\n",
       "    </tr>\n",
       "    <tr>\n",
       "      <td>Ketapril</td>\n",
       "      <td>55.235638</td>\n",
       "      <td>53.698743</td>\n",
       "      <td>68.553577</td>\n",
       "      <td>8.279709</td>\n",
       "      <td>0.603860</td>\n",
       "    </tr>\n",
       "    <tr>\n",
       "      <td>Naftisol</td>\n",
       "      <td>54.331565</td>\n",
       "      <td>52.509285</td>\n",
       "      <td>66.173479</td>\n",
       "      <td>8.134708</td>\n",
       "      <td>0.596466</td>\n",
       "    </tr>\n",
       "    <tr>\n",
       "      <td>Placebo</td>\n",
       "      <td>54.033581</td>\n",
       "      <td>52.288934</td>\n",
       "      <td>61.168083</td>\n",
       "      <td>7.821003</td>\n",
       "      <td>0.581331</td>\n",
       "    </tr>\n",
       "    <tr>\n",
       "      <td>Propriva</td>\n",
       "      <td>52.322552</td>\n",
       "      <td>50.854632</td>\n",
       "      <td>42.351070</td>\n",
       "      <td>6.507770</td>\n",
       "      <td>0.512884</td>\n",
       "    </tr>\n",
       "    <tr>\n",
       "      <td>Ramicane</td>\n",
       "      <td>40.216745</td>\n",
       "      <td>40.673236</td>\n",
       "      <td>23.486704</td>\n",
       "      <td>4.846308</td>\n",
       "      <td>0.320955</td>\n",
       "    </tr>\n",
       "    <tr>\n",
       "      <td>Stelasyn</td>\n",
       "      <td>54.233149</td>\n",
       "      <td>52.431737</td>\n",
       "      <td>59.450562</td>\n",
       "      <td>7.710419</td>\n",
       "      <td>0.573111</td>\n",
       "    </tr>\n",
       "    <tr>\n",
       "      <td>Zoniferol</td>\n",
       "      <td>53.236507</td>\n",
       "      <td>51.818479</td>\n",
       "      <td>48.533355</td>\n",
       "      <td>6.966589</td>\n",
       "      <td>0.516398</td>\n",
       "    </tr>\n",
       "  </tbody>\n",
       "</table>\n",
       "</div>"
      ],
      "text/plain": [
       "              Mean Tumor Volume  Median Tumor Volume  Tumor Volume Vaiance  \\\n",
       "Drug Regimen                                                                 \n",
       "Capomulin             40.675741            41.557809             24.947764   \n",
       "Ceftamin              52.591172            51.776157             39.290177   \n",
       "Infubinol             52.884795            51.820584             43.128684   \n",
       "Ketapril              55.235638            53.698743             68.553577   \n",
       "Naftisol              54.331565            52.509285             66.173479   \n",
       "Placebo               54.033581            52.288934             61.168083   \n",
       "Propriva              52.322552            50.854632             42.351070   \n",
       "Ramicane              40.216745            40.673236             23.486704   \n",
       "Stelasyn              54.233149            52.431737             59.450562   \n",
       "Zoniferol             53.236507            51.818479             48.533355   \n",
       "\n",
       "              Tumor Volume Std. Dev.  Tumor Volume Std. Err.  \n",
       "Drug Regimen                                                  \n",
       "Capomulin                   4.994774                0.329346  \n",
       "Ceftamin                    6.268188                0.469821  \n",
       "Infubinol                   6.567243                0.492236  \n",
       "Ketapril                    8.279709                0.603860  \n",
       "Naftisol                    8.134708                0.596466  \n",
       "Placebo                     7.821003                0.581331  \n",
       "Propriva                    6.507770                0.512884  \n",
       "Ramicane                    4.846308                0.320955  \n",
       "Stelasyn                    7.710419                0.573111  \n",
       "Zoniferol                   6.966589                0.516398  "
      ]
     },
     "execution_count": 3,
     "metadata": {},
     "output_type": "execute_result"
    }
   ],
   "source": [
    "# Generate a summary statistics table of mean, median, variance, standard deviation, and SEM of the tumor volume for \n",
    "# each regimen\n",
    "study_means = combined_mousestudy.groupby(\"Drug Regimen\").mean()[\"Tumor Volume (mm3)\"]\n",
    "study_medians = combined_mousestudy.groupby(\"Drug Regimen\").median()[\"Tumor Volume (mm3)\"]\n",
    "study_variances = combined_mousestudy.groupby(\"Drug Regimen\").var()[\"Tumor Volume (mm3)\"]\n",
    "std_devs = combined_mousestudy.groupby(\"Drug Regimen\").std()[\"Tumor Volume (mm3)\"]\n",
    "sems = combined_mousestudy.groupby(\"Drug Regimen\").sem()[\"Tumor Volume (mm3)\"]\n",
    "study_summary_stats = pd.DataFrame({\"Mean Tumor Volume\": study_means,\n",
    "                                    \"Median Tumor Volume\": study_medians,\n",
    "                                    \"Tumor Volume Vaiance\": study_variances,\n",
    "                                    \"Tumor Volume Std. Dev.\": std_devs,\n",
    "                                    \"Tumor Volume Std. Err.\": sems})\n",
    "\n",
    "study_summary_stats"
   ]
  },
  {
   "cell_type": "markdown",
   "metadata": {},
   "source": [
    "# Bar plots"
   ]
  },
  {
   "cell_type": "code",
   "execution_count": 4,
   "metadata": {
    "scrolled": true
   },
   "outputs": [
    {
     "data": {
      "image/png": "[encoded data removed]",
      "text/plain": [
       "<Figure size 432x288 with 1 Axes>"
      ]
     },
     "metadata": {
      "needs_background": "light"
     },
     "output_type": "display_data"
    }
   ],
   "source": [
    "# Generate a bar plot showing number of data points for each treatment regimen using pandas\n",
    "datapoints = combined_mousestudy[\"Drug Regimen\"].value_counts()\n",
    "datapoints.plot(kind=\"bar\")\n",
    "plt.ylabel('No of Datapoints', fontsize=12)\n",
    "plt.title('Datapoints per Drug Regimen')\n",
    "plt.xticks(rotation='vertical')\n",
    "plt.show()\n"
   ]
  },
  {
   "cell_type": "code",
   "execution_count": 5,
   "metadata": {},
   "outputs": [
    {
     "data": {
      "image/png": "[encoded data removed]",
      "text/plain": [
       "<Figure size 432x288 with 1 Axes>"
      ]
     },
     "metadata": {
      "needs_background": "light"
     },
     "output_type": "display_data"
    }
   ],
   "source": [
    "#Generate a bar plot showing number of data points for each treatment regimen using pyplot\n",
    "\n",
    "datapoints = combined_mousestudy[\"Drug Regimen\"].value_counts()\n",
    "plt.bar(datapoints.index.values, datapoints.values)\n",
    "plt.ylabel('No of Datapoints', fontsize=12)\n",
    "plt.title('Datapoints per Drug Regimen')\n",
    "plt.xticks(rotation='vertical')\n",
    "plt.show()\n"
   ]
  },
  {
   "cell_type": "markdown",
   "metadata": {},
   "source": [
    "## Pie plots"
   ]
  },
  {
   "cell_type": "code",
   "execution_count": 6,
   "metadata": {},
   "outputs": [
    {
     "name": "stdout",
     "output_type": "stream",
     "text": [
      "Sex     Sex   \n",
      "Female  Female    935\n",
      "Male    Male      958\n",
      "Name: Sex, dtype: int64\n"
     ]
    }
   ],
   "source": [
    "# Generate a pie plot showing the distribution of female versus male mice using pandas\n",
    "combined_mousestudy_group = combined_mousestudy.groupby(\"Sex\")\n",
    "# Find how many rows fall into each bin\n",
    "mouse_sex_counts = combined_mousestudy_group[\"Sex\"].value_counts()\n",
    "\n",
    "print (mouse_sex_counts)\n"
   ]
  },
  {
   "cell_type": "code",
   "execution_count": 7,
   "metadata": {},
   "outputs": [
    {
     "data": {
      "image/png": "[encoded data removed]",
      "text/plain": [
       "<Figure size 432x288 with 1 Axes>"
      ]
     },
     "metadata": {},
     "output_type": "display_data"
    }
   ],
   "source": [
    "mouse_sex_counts.plot(kind=\"pie\", autopct='%1.1f%%')\n",
    "plt.show()"
   ]
  },
  {
   "cell_type": "code",
   "execution_count": 8,
   "metadata": {},
   "outputs": [
    {
     "data": {
      "text/plain": [
       "([<matplotlib.patches.Wedge at 0x1a23b99d90>,\n",
       "  <matplotlib.patches.Wedge at 0x1a23ba8750>],\n",
       " [Text(-0.7887477729166416, -0.904365496201087, 'Female'),\n",
       "  Text(0.723018791840255, 0.8290017048509963, 'Male')],\n",
       " [Text(-0.4601028675347076, -0.527546539450634, '49.4%'),\n",
       "  Text(0.39437388645832083, 0.4521827481005434, '50.6%')])"
      ]
     },
     "execution_count": 8,
     "metadata": {},
     "output_type": "execute_result"
    },
    {
     "data": {
      "image/png": "[encoded data removed]",
      "text/plain": [
       "<Figure size 432x288 with 1 Axes>"
      ]
     },
     "metadata": {},
     "output_type": "display_data"
    }
   ],
   "source": [
    "# Generate a pie plot showing the distribution of female versus male mice using pyplot\n",
    "# Create a group based on the value os sex\n",
    "#Matplotlib plt.pie\n",
    "labels = [\"Female\", \"Male\"]\n",
    "# colors = [\"lightcoral\", \"lightskyblue\"]\n",
    "explode = (0.1,0)\n",
    "plt.ylabel(\"Sex\")\n",
    "plt.pie(mouse_sex_counts, explode=explode, labels=labels, autopct=\"%1.1f%%\", shadow=True, startangle=140)"
   ]
  },
  {
   "cell_type": "markdown",
   "metadata": {},
   "source": [
    "## Quartiles, outliers and boxplots"
   ]
  },
  {
   "cell_type": "code",
   "execution_count": 9,
   "metadata": {},
   "outputs": [],
   "source": [
    "# Calculate the final tumor volume of each mouse across four of the most promising treatment regimens. \n",
    "\n",
    "final_tumor_volume = combined_mousestudy.groupby([\"Mouse ID\"]).max()\n",
    "final_tumor_volume = final_tumor_volume.reset_index()\n",
    "\n",
    "# Merge the two dataframes to get the final tumor volume for each mouse across the 4 treatments\n",
    "merged_mousestudy  = final_tumor_volume[['Mouse ID', 'Timepoint']].merge(combined_mousestudy,on=['Mouse ID','Timepoint'],how='left')\n",
    "capomulin_ftv = merged_mousestudy.loc[merged_mousestudy[\"Drug Regimen\"] == \"Capomulin\"]['Tumor Volume (mm3)'] \n",
    "ramicane_ftv = merged_mousestudy.loc[merged_mousestudy[\"Drug Regimen\"] == \"Ramicane\"]['Tumor Volume (mm3)']                                               \n",
    "infubinol_ftv = merged_mousestudy.loc[merged_mousestudy[\"Drug Regimen\"] == \"Infubinol\"]['Tumor Volume (mm3)']                                               \n",
    "ceftamin_ftv = merged_mousestudy.loc[merged_mousestudy[\"Drug Regimen\"] == \"Ceftamin\"]['Tumor Volume (mm3)']                                               "
   ]
  },
  {
   "cell_type": "code",
   "execution_count": 10,
   "metadata": {},
   "outputs": [
    {
     "name": "stdout",
     "output_type": "stream",
     "text": [
      "Capomulin potential outliers: (capomulin_ftv.loc[(capomulin_ftv < capo_lower_bound) | (capomulin_ftv > capo_upper_bound)])\n",
      "Ramicane potential outliers: (ramicane_ftv.loc[(ramicane_ftv < rami_lower_bound) | (ramicane_ftv > rami_upper_bound)])\n",
      "Ceftamin potential outliers: (ceftamin_ftv.loc[(ceftamin_ftv < ceft_lower_bound) | (ceftamin_ftv > ceft_upper_bound)])\n",
      "Infubinol potential outliers: (infubinul_ftv.loc[(infubinol_ftv < infu_lower_bound) | (infubinol_ftv > infu_upper_bound)])\n"
     ]
    }
   ],
   "source": [
    "# Calculate the IQR and quantitatively determine if there are any potential outliers. \n",
    "capo_quartiles = capomulin_ftv.quantile([.25, .5, .75])\n",
    "capo_lowerquartile = capo_quartiles[0.25]\n",
    "capo_upperquartile = capo_quartiles[0.75]\n",
    "capo_iqr = capo_upperquartile - capo_lowerquartile\n",
    "capo_lower_bound = capo_lowerquartile - (1.5*capo_iqr)\n",
    "capo_upper_bound = capo_upperquartile - (1.5*capo_iqr)\n",
    "print(f\"Capomulin potential outliers: (capomulin_ftv.loc[(capomulin_ftv < capo_lower_bound) | (capomulin_ftv > capo_upper_bound)])\")\n",
    "\n",
    "rami_quartiles = ramicane_ftv.quantile([.25, .5, .75])\n",
    "rami_lowerquartile = rami_quartiles[0.25]\n",
    "rami_upperquartile = rami_quartiles[0.75]\n",
    "rami_iqr = rami_upperquartile - rami_lowerquartile\n",
    "rami_lower_bound = rami_lowerquartile - (1.5*rami_iqr)\n",
    "rami_upper_bound = rami_upperquartile - (1.5*rami_iqr)\n",
    "print(f\"Ramicane potential outliers: (ramicane_ftv.loc[(ramicane_ftv < rami_lower_bound) | (ramicane_ftv > rami_upper_bound)])\")\n",
    "\n",
    "ceft_quartiles = ceftamin_ftv.quantile([.25, .5, .75])\n",
    "ceft_lowerquartile = ceft_quartiles[0.25]\n",
    "ceft_upperquartile = ceft_quartiles[0.75]\n",
    "ceft_iqr = ceft_upperquartile - ceft_lowerquartile\n",
    "ceft_lower_bound = ceft_lowerquartile - (1.5*ceft_iqr)\n",
    "ceft_upper_bound = ceft_upperquartile - (1.5*ceft_iqr)\n",
    "print(f\"Ceftamin potential outliers: (ceftamin_ftv.loc[(ceftamin_ftv < ceft_lower_bound) | (ceftamin_ftv > ceft_upper_bound)])\")\n",
    "\n",
    "infu_quartiles = infubinol_ftv.quantile([.25, .5, .75])\n",
    "infu_lowerquartile = infu_quartiles[0.25]\n",
    "infu_upperquartile = infu_quartiles[0.75]\n",
    "infu_iqr = infu_upperquartile - infu_lowerquartile\n",
    "infu_lower_bound = infu_lowerquartile - (1.5*infu_iqr)\n",
    "infu_upper_bound = infu_upperquartile - (1.5*infu_iqr)\n",
    "print(f\"Infubinol potential outliers: (infubinul_ftv.loc[(infubinol_ftv < infu_lower_bound) | (infubinol_ftv > infu_upper_bound)])\")\n"
   ]
  },
  {
   "cell_type": "code",
   "execution_count": 11,
   "metadata": {},
   "outputs": [
    {
     "data": {
      "image/png": "[encoded data removed]",
      "text/plain": [
       "<Figure size 432x288 with 1 Axes>"
      ]
     },
     "metadata": {
      "needs_background": "light"
     },
     "output_type": "display_data"
    }
   ],
   "source": [
    "# Generate a box plot of the fina tumor volume of each mouse scross four regimens of interest\n",
    "orange_out = dict(markerfacecolor='red',markersize=12)\n",
    "plt.boxplot([capomulin_ftv,ramicane_ftv,ceftamin_ftv,infubinol_ftv],labels=['Capomulin','Ramicane','Ceftamin','Infubinol'],flierprops=orange_out)\n",
    "plt.ylabel('Final Tumor Volume (mm3)')\n",
    "plt.show()\n"
   ]
  },
  {
   "cell_type": "markdown",
   "metadata": {},
   "source": [
    "## Line and scatter plots"
   ]
  },
  {
   "cell_type": "code",
   "execution_count": 12,
   "metadata": {
    "scrolled": true
   },
   "outputs": [
    {
     "data": {
      "image/png": "[encoded data removed]",
      "text/plain": [
       "<Figure size 432x288 with 1 Axes>"
      ]
     },
     "metadata": {
      "needs_background": "light"
     },
     "output_type": "display_data"
    }
   ],
   "source": [
    "# Generate a line plot of time point versus tumor volume for a mouse treated with Capomulin\n",
    "\n",
    "capomulin_study_results = combined_mousestudy.loc[combined_mousestudy[\"Drug Regimen\"]==\"Capomulin\"]\n",
    "\n",
    "mousedata_b944 = capomulin_study_results.loc[capomulin_study_results['Mouse ID'] == 'b944']\n",
    "\n",
    "plt.plot(mousedata_b944['Timepoint'],mousedata_b944['Tumor Volume (mm3)'])\n",
    "plt.xlabel('Timepoint (days)')\n",
    "plt.ylabel('Tumor Volume (mm3)')\n",
    "plt.title('Capomulin Treatment Results for Mouse b944')\n",
    "plt.show()"
   ]
  },
  {
   "cell_type": "code",
   "execution_count": 13,
   "metadata": {},
   "outputs": [
    {
     "data": {
      "image/png": "[encoded data removed]",
      "text/plain": [
       "<Figure size 432x288 with 1 Axes>"
      ]
     },
     "metadata": {
      "needs_background": "light"
     },
     "output_type": "display_data"
    }
   ],
   "source": [
    "# Generate a scatter plot of mouse weight versus average tumor volume for the Capomulin regimen\n",
    "# so for each mouse that had capomulin, calculate the average tumor volume and plot weight against that value\n",
    "\n",
    "capo_mouse_weight = capomulin_study_results.groupby(capomulin_study_results['Mouse ID'])['Weight (g)'].mean()\n",
    "capo_tumor_volume = capomulin_study_results.groupby(capomulin_study_results['Mouse ID'])['Tumor Volume (mm3)'].mean()\n",
    "\n",
    "plt.scatter(capo_mouse_weight, capo_tumor_volume)\n",
    "plt.xlabel('Mouse Weight (g)')\n",
    "plt.ylabel('Average tumor Volume (mm3)')\n",
    "plt.title('Capomulin Treatment Results')\n",
    "plt.show()\n"
   ]
  },
  {
   "cell_type": "code",
   "execution_count": null,
   "metadata": {},
   "outputs": [],
   "source": []
  },
  {
   "cell_type": "code",
   "execution_count": 14,
   "metadata": {},
   "outputs": [
    {
     "data": {
      "image/png": "[encoded data removed]",
      "text/plain": [
       "<Figure size 432x288 with 1 Axes>"
      ]
     },
     "metadata": {
      "needs_background": "light"
     },
     "output_type": "display_data"
    },
    {
     "name": "stdout",
     "output_type": "stream",
     "text": [
      "The correlation between weight and tumor volume is 0.84\n"
     ]
    }
   ],
   "source": [
    "# Calculate the correlation coefficient and linear regression model for mouse weight and average tumor volume \n",
    "# for the Capomulin regimen\n",
    "\n",
    "capo_mouse_weight = capomulin_study_results.groupby(capomulin_study_results['Mouse ID'])['Weight (g)'].mean()\n",
    "capo_tumor_volume = capomulin_study_results.groupby(capomulin_study_results['Mouse ID'])['Tumor Volume (mm3)'].mean()\n",
    "\n",
    "slope,int,r,p,std_err = st.linregress(capo_mouse_weight,capo_tumor_volume)\n",
    "fit = slope * capo_mouse_weight + int\n",
    "\n",
    "plt.scatter(capo_mouse_weight, capo_tumor_volume)\n",
    "plt.xlabel('Mouse Weight')\n",
    "plt.ylabel('Tumor Volume')\n",
    "plt.title('Capomulin Treatment Results')\n",
    "plt.plot(capo_mouse_weight,fit,'--')\n",
    "plt.xticks(capo_mouse_weight, rotation=90)\n",
    "plt.show()\n",
    "\n",
    "corr = round(st.pearsonr(capo_mouse_weight, capo_tumor_volume)[0],2)\n",
    "print(f'The correlation between weight and tumor volume is {corr}')\n"
   ]
  },
  {
   "cell_type": "code",
   "execution_count": null,
   "metadata": {},
   "outputs": [],
   "source": []
  }
 ],
 "metadata": {
  "anaconda-cloud": {},
  "kernelspec": {
   "display_name": "Python 3",
   "language": "python",
   "name": "python3"
  },
  "language_info": {
   "codemirror_mode": {
    "name": "ipython",
    "version": 3
   },
   "file_extension": ".py",
   "mimetype": "text/x-python",
   "name": "python",
   "nbconvert_exporter": "python",
   "pygments_lexer": "ipython3",
   "version": "3.7.4"
  }
 },
 "nbformat": 4,
 "nbformat_minor": 2
}
